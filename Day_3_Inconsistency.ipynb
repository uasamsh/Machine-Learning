{
 "cells": [
  {
   "cell_type": "code",
   "execution_count": 1,
   "metadata": {},
   "outputs": [],
   "source": [
    "import pandas as pd\n",
    "from dateutil.parser import parse\n",
    "\n",
    "# Example dataset with inconsistent date formats and missing values\n",
    "data = {\n",
    "    'date': ['2021-01-01', '2022/02/01', '03/03/2023', '2024-04-01', '2025/05/01', 'Invalid date', ''],\n",
    "    'value': [10, 20, 30, 40, 50, 60, 70]\n",
    "}\n",
    "df = pd.DataFrame(data)"
   ]
  },
  {
   "cell_type": "code",
   "execution_count": 2,
   "metadata": {},
   "outputs": [
    {
     "data": {
      "application/vnd.microsoft.datawrangler.viewer.v0+json": {
       "columns": [
        {
         "name": "index",
         "rawType": "int64",
         "type": "integer"
        },
        {
         "name": "date",
         "rawType": "object",
         "type": "string"
        },
        {
         "name": "value",
         "rawType": "int64",
         "type": "integer"
        }
       ],
       "ref": "28d74c24-7691-4544-a7a1-35a58eb80311",
       "rows": [
        [
         "0",
         "2021-01-01",
         "10"
        ],
        [
         "1",
         "2022/02/01",
         "20"
        ],
        [
         "2",
         "03/03/2023",
         "30"
        ],
        [
         "3",
         "2024-04-01",
         "40"
        ],
        [
         "4",
         "2025/05/01",
         "50"
        ]
       ],
       "shape": {
        "columns": 2,
        "rows": 5
       }
      },
      "text/html": [
       "<div>\n",
       "<style scoped>\n",
       "    .dataframe tbody tr th:only-of-type {\n",
       "        vertical-align: middle;\n",
       "    }\n",
       "\n",
       "    .dataframe tbody tr th {\n",
       "        vertical-align: top;\n",
       "    }\n",
       "\n",
       "    .dataframe thead th {\n",
       "        text-align: right;\n",
       "    }\n",
       "</style>\n",
       "<table border=\"1\" class=\"dataframe\">\n",
       "  <thead>\n",
       "    <tr style=\"text-align: right;\">\n",
       "      <th></th>\n",
       "      <th>date</th>\n",
       "      <th>value</th>\n",
       "    </tr>\n",
       "  </thead>\n",
       "  <tbody>\n",
       "    <tr>\n",
       "      <th>0</th>\n",
       "      <td>2021-01-01</td>\n",
       "      <td>10</td>\n",
       "    </tr>\n",
       "    <tr>\n",
       "      <th>1</th>\n",
       "      <td>2022/02/01</td>\n",
       "      <td>20</td>\n",
       "    </tr>\n",
       "    <tr>\n",
       "      <th>2</th>\n",
       "      <td>03/03/2023</td>\n",
       "      <td>30</td>\n",
       "    </tr>\n",
       "    <tr>\n",
       "      <th>3</th>\n",
       "      <td>2024-04-01</td>\n",
       "      <td>40</td>\n",
       "    </tr>\n",
       "    <tr>\n",
       "      <th>4</th>\n",
       "      <td>2025/05/01</td>\n",
       "      <td>50</td>\n",
       "    </tr>\n",
       "  </tbody>\n",
       "</table>\n",
       "</div>"
      ],
      "text/plain": [
       "         date  value\n",
       "0  2021-01-01     10\n",
       "1  2022/02/01     20\n",
       "2  03/03/2023     30\n",
       "3  2024-04-01     40\n",
       "4  2025/05/01     50"
      ]
     },
     "execution_count": 2,
     "metadata": {},
     "output_type": "execute_result"
    }
   ],
   "source": [
    "df.head()"
   ]
  },
  {
   "cell_type": "code",
   "execution_count": 3,
   "metadata": {},
   "outputs": [],
   "source": [
    "data = {\n",
    "    'date': ['2021-12-01', '01-12-2022', '2022/12/01', '12-01-2021'],\n",
    "    'country': ['USA', 'U.S.A.', 'America', 'United States'],\n",
    "    'name': ['Aammar', 'Amaar', 'Hamza', 'Hazma'],\n",
    "    'sales_2020': [100, 200, None, 200],\n",
    "    'sales_2021': [None, 150, 300, 150]\n",
    "}\n",
    "# make pandas dataframe\n",
    "df = pd.DataFrame(data)"
   ]
  },
  {
   "cell_type": "code",
   "execution_count": 4,
   "metadata": {},
   "outputs": [
    {
     "data": {
      "application/vnd.microsoft.datawrangler.viewer.v0+json": {
       "columns": [
        {
         "name": "index",
         "rawType": "int64",
         "type": "integer"
        },
        {
         "name": "date",
         "rawType": "object",
         "type": "string"
        },
        {
         "name": "country",
         "rawType": "object",
         "type": "string"
        },
        {
         "name": "name",
         "rawType": "object",
         "type": "string"
        },
        {
         "name": "sales_2020",
         "rawType": "float64",
         "type": "float"
        },
        {
         "name": "sales_2021",
         "rawType": "float64",
         "type": "float"
        }
       ],
       "ref": "7b0db40c-c657-4af9-a909-960b95ff9297",
       "rows": [
        [
         "0",
         "2021-12-01",
         "USA",
         "Aammar",
         "100.0",
         null
        ],
        [
         "1",
         "01-12-2022",
         "U.S.A.",
         "Amaar",
         "200.0",
         "150.0"
        ],
        [
         "2",
         "2022/12/01",
         "America",
         "Hamza",
         null,
         "300.0"
        ],
        [
         "3",
         "12-01-2021",
         "United States",
         "Hazma",
         "200.0",
         "150.0"
        ]
       ],
       "shape": {
        "columns": 5,
        "rows": 4
       }
      },
      "text/html": [
       "<div>\n",
       "<style scoped>\n",
       "    .dataframe tbody tr th:only-of-type {\n",
       "        vertical-align: middle;\n",
       "    }\n",
       "\n",
       "    .dataframe tbody tr th {\n",
       "        vertical-align: top;\n",
       "    }\n",
       "\n",
       "    .dataframe thead th {\n",
       "        text-align: right;\n",
       "    }\n",
       "</style>\n",
       "<table border=\"1\" class=\"dataframe\">\n",
       "  <thead>\n",
       "    <tr style=\"text-align: right;\">\n",
       "      <th></th>\n",
       "      <th>date</th>\n",
       "      <th>country</th>\n",
       "      <th>name</th>\n",
       "      <th>sales_2020</th>\n",
       "      <th>sales_2021</th>\n",
       "    </tr>\n",
       "  </thead>\n",
       "  <tbody>\n",
       "    <tr>\n",
       "      <th>0</th>\n",
       "      <td>2021-12-01</td>\n",
       "      <td>USA</td>\n",
       "      <td>Aammar</td>\n",
       "      <td>100.0</td>\n",
       "      <td>NaN</td>\n",
       "    </tr>\n",
       "    <tr>\n",
       "      <th>1</th>\n",
       "      <td>01-12-2022</td>\n",
       "      <td>U.S.A.</td>\n",
       "      <td>Amaar</td>\n",
       "      <td>200.0</td>\n",
       "      <td>150.0</td>\n",
       "    </tr>\n",
       "    <tr>\n",
       "      <th>2</th>\n",
       "      <td>2022/12/01</td>\n",
       "      <td>America</td>\n",
       "      <td>Hamza</td>\n",
       "      <td>NaN</td>\n",
       "      <td>300.0</td>\n",
       "    </tr>\n",
       "    <tr>\n",
       "      <th>3</th>\n",
       "      <td>12-01-2021</td>\n",
       "      <td>United States</td>\n",
       "      <td>Hazma</td>\n",
       "      <td>200.0</td>\n",
       "      <td>150.0</td>\n",
       "    </tr>\n",
       "  </tbody>\n",
       "</table>\n",
       "</div>"
      ],
      "text/plain": [
       "         date        country    name  sales_2020  sales_2021\n",
       "0  2021-12-01            USA  Aammar       100.0         NaN\n",
       "1  01-12-2022         U.S.A.   Amaar       200.0       150.0\n",
       "2  2022/12/01        America   Hamza         NaN       300.0\n",
       "3  12-01-2021  United States   Hazma       200.0       150.0"
      ]
     },
     "execution_count": 4,
     "metadata": {},
     "output_type": "execute_result"
    }
   ],
   "source": [
    "df.head()"
   ]
  },
  {
   "cell_type": "code",
   "execution_count": 5,
   "metadata": {},
   "outputs": [
    {
     "data": {
      "application/vnd.microsoft.datawrangler.viewer.v0+json": {
       "columns": [
        {
         "name": "index",
         "rawType": "int64",
         "type": "integer"
        },
        {
         "name": "date",
         "rawType": "object",
         "type": "string"
        },
        {
         "name": "country",
         "rawType": "object",
         "type": "string"
        },
        {
         "name": "name",
         "rawType": "object",
         "type": "string"
        },
        {
         "name": "sales_2020",
         "rawType": "float64",
         "type": "float"
        },
        {
         "name": "sales_2021",
         "rawType": "float64",
         "type": "float"
        }
       ],
       "ref": "81fbbbda-0ee5-4305-ba5e-3b91ea57bda3",
       "rows": [
        [
         "0",
         "2021-12-01",
         "USA",
         "Aammar",
         "100.0",
         null
        ],
        [
         "1",
         "2022-10-01",
         "U.S.A.",
         "Amaar",
         "200.0",
         "150.0"
        ],
        [
         "2",
         "2023-11-01",
         "America",
         "Hamza",
         null,
         "300.0"
        ],
        [
         "3",
         "2024-12-01",
         "United States",
         "Hazma",
         "200.0",
         "150.0"
        ]
       ],
       "shape": {
        "columns": 5,
        "rows": 4
       }
      },
      "text/html": [
       "<div>\n",
       "<style scoped>\n",
       "    .dataframe tbody tr th:only-of-type {\n",
       "        vertical-align: middle;\n",
       "    }\n",
       "\n",
       "    .dataframe tbody tr th {\n",
       "        vertical-align: top;\n",
       "    }\n",
       "\n",
       "    .dataframe thead th {\n",
       "        text-align: right;\n",
       "    }\n",
       "</style>\n",
       "<table border=\"1\" class=\"dataframe\">\n",
       "  <thead>\n",
       "    <tr style=\"text-align: right;\">\n",
       "      <th></th>\n",
       "      <th>date</th>\n",
       "      <th>country</th>\n",
       "      <th>name</th>\n",
       "      <th>sales_2020</th>\n",
       "      <th>sales_2021</th>\n",
       "    </tr>\n",
       "  </thead>\n",
       "  <tbody>\n",
       "    <tr>\n",
       "      <th>0</th>\n",
       "      <td>2021-12-01</td>\n",
       "      <td>USA</td>\n",
       "      <td>Aammar</td>\n",
       "      <td>100.0</td>\n",
       "      <td>NaN</td>\n",
       "    </tr>\n",
       "    <tr>\n",
       "      <th>1</th>\n",
       "      <td>2022-10-01</td>\n",
       "      <td>U.S.A.</td>\n",
       "      <td>Amaar</td>\n",
       "      <td>200.0</td>\n",
       "      <td>150.0</td>\n",
       "    </tr>\n",
       "    <tr>\n",
       "      <th>2</th>\n",
       "      <td>2023-11-01</td>\n",
       "      <td>America</td>\n",
       "      <td>Hamza</td>\n",
       "      <td>NaN</td>\n",
       "      <td>300.0</td>\n",
       "    </tr>\n",
       "    <tr>\n",
       "      <th>3</th>\n",
       "      <td>2024-12-01</td>\n",
       "      <td>United States</td>\n",
       "      <td>Hazma</td>\n",
       "      <td>200.0</td>\n",
       "      <td>150.0</td>\n",
       "    </tr>\n",
       "  </tbody>\n",
       "</table>\n",
       "</div>"
      ],
      "text/plain": [
       "         date        country    name  sales_2020  sales_2021\n",
       "0  2021-12-01            USA  Aammar       100.0         NaN\n",
       "1  2022-10-01         U.S.A.   Amaar       200.0       150.0\n",
       "2  2023-11-01        America   Hamza         NaN       300.0\n",
       "3  2024-12-01  United States   Hazma       200.0       150.0"
      ]
     },
     "execution_count": 5,
     "metadata": {},
     "output_type": "execute_result"
    }
   ],
   "source": [
    "date_formating = {'2021-12-01': '2021-12-01', '01-12-2022': '2022-10-01', '2022/12/01': '2023-11-01', '12-01-2021':'2024-12-01' }\n",
    "df['date'] = df['date'].replace(date_formating)\n",
    "df.head()"
   ]
  },
  {
   "cell_type": "code",
   "execution_count": 6,
   "metadata": {},
   "outputs": [
    {
     "data": {
      "application/vnd.microsoft.datawrangler.viewer.v0+json": {
       "columns": [
        {
         "name": "index",
         "rawType": "int64",
         "type": "integer"
        },
        {
         "name": "date",
         "rawType": "object",
         "type": "string"
        },
        {
         "name": "country",
         "rawType": "object",
         "type": "string"
        },
        {
         "name": "name",
         "rawType": "object",
         "type": "string"
        },
        {
         "name": "sales_2020",
         "rawType": "float64",
         "type": "float"
        },
        {
         "name": "sales_2021",
         "rawType": "float64",
         "type": "float"
        }
       ],
       "ref": "59097c6c-6e6f-464e-9740-1fbc2f66da53",
       "rows": [
        [
         "0",
         "2021-12-01",
         "USA",
         "Aammar",
         "100.0",
         null
        ],
        [
         "1",
         "2022-10-01",
         "U.S.A.",
         "Amaar",
         "200.0",
         "150.0"
        ],
        [
         "2",
         "2023-11-01",
         "America",
         "Hamza",
         null,
         "300.0"
        ],
        [
         "3",
         "2024-12-01",
         "United States",
         "Hazma",
         "200.0",
         "150.0"
        ]
       ],
       "shape": {
        "columns": 5,
        "rows": 4
       }
      },
      "text/html": [
       "<div>\n",
       "<style scoped>\n",
       "    .dataframe tbody tr th:only-of-type {\n",
       "        vertical-align: middle;\n",
       "    }\n",
       "\n",
       "    .dataframe tbody tr th {\n",
       "        vertical-align: top;\n",
       "    }\n",
       "\n",
       "    .dataframe thead th {\n",
       "        text-align: right;\n",
       "    }\n",
       "</style>\n",
       "<table border=\"1\" class=\"dataframe\">\n",
       "  <thead>\n",
       "    <tr style=\"text-align: right;\">\n",
       "      <th></th>\n",
       "      <th>date</th>\n",
       "      <th>country</th>\n",
       "      <th>name</th>\n",
       "      <th>sales_2020</th>\n",
       "      <th>sales_2021</th>\n",
       "    </tr>\n",
       "  </thead>\n",
       "  <tbody>\n",
       "    <tr>\n",
       "      <th>0</th>\n",
       "      <td>2021-12-01</td>\n",
       "      <td>USA</td>\n",
       "      <td>Aammar</td>\n",
       "      <td>100.0</td>\n",
       "      <td>NaN</td>\n",
       "    </tr>\n",
       "    <tr>\n",
       "      <th>1</th>\n",
       "      <td>2022-10-01</td>\n",
       "      <td>U.S.A.</td>\n",
       "      <td>Amaar</td>\n",
       "      <td>200.0</td>\n",
       "      <td>150.0</td>\n",
       "    </tr>\n",
       "    <tr>\n",
       "      <th>2</th>\n",
       "      <td>2023-11-01</td>\n",
       "      <td>America</td>\n",
       "      <td>Hamza</td>\n",
       "      <td>NaN</td>\n",
       "      <td>300.0</td>\n",
       "    </tr>\n",
       "    <tr>\n",
       "      <th>3</th>\n",
       "      <td>2024-12-01</td>\n",
       "      <td>United States</td>\n",
       "      <td>Hazma</td>\n",
       "      <td>200.0</td>\n",
       "      <td>150.0</td>\n",
       "    </tr>\n",
       "  </tbody>\n",
       "</table>\n",
       "</div>"
      ],
      "text/plain": [
       "         date        country    name  sales_2020  sales_2021\n",
       "0  2021-12-01            USA  Aammar       100.0         NaN\n",
       "1  2022-10-01         U.S.A.   Amaar       200.0       150.0\n",
       "2  2023-11-01        America   Hamza         NaN       300.0\n",
       "3  2024-12-01  United States   Hazma       200.0       150.0"
      ]
     },
     "execution_count": 6,
     "metadata": {},
     "output_type": "execute_result"
    }
   ],
   "source": [
    "# standardizing the date format\n",
    "df['date'] = pd.to_datetime(df['date'], errors='coerce')\n",
    "df['date'] = df['date'].dt.strftime('%Y-%m-%d')\n",
    "df.head()"
   ]
  },
  {
   "cell_type": "markdown",
   "metadata": {},
   "source": [
    "# Assignment: Impute fill the date and try another method to complete the date format inconsitencies"
   ]
  },
  {
   "cell_type": "code",
   "execution_count": 7,
   "metadata": {},
   "outputs": [
    {
     "data": {
      "application/vnd.microsoft.datawrangler.viewer.v0+json": {
       "columns": [
        {
         "name": "index",
         "rawType": "int64",
         "type": "integer"
        },
        {
         "name": "date",
         "rawType": "object",
         "type": "string"
        },
        {
         "name": "country",
         "rawType": "object",
         "type": "string"
        },
        {
         "name": "name",
         "rawType": "object",
         "type": "string"
        },
        {
         "name": "sales_2020",
         "rawType": "float64",
         "type": "float"
        },
        {
         "name": "sales_2021",
         "rawType": "float64",
         "type": "float"
        }
       ],
       "ref": "1befafe2-4bc2-4afc-a306-9af497796ffa",
       "rows": [
        [
         "0",
         "2021-12-01",
         "United States",
         "Aammar",
         "100.0",
         null
        ],
        [
         "1",
         "2022-10-01",
         "United States",
         "Amaar",
         "200.0",
         "150.0"
        ],
        [
         "2",
         "2023-11-01",
         "United States",
         "Hamza",
         null,
         "300.0"
        ],
        [
         "3",
         "2024-12-01",
         "United States",
         "Hazma",
         "200.0",
         "150.0"
        ]
       ],
       "shape": {
        "columns": 5,
        "rows": 4
       }
      },
      "text/html": [
       "<div>\n",
       "<style scoped>\n",
       "    .dataframe tbody tr th:only-of-type {\n",
       "        vertical-align: middle;\n",
       "    }\n",
       "\n",
       "    .dataframe tbody tr th {\n",
       "        vertical-align: top;\n",
       "    }\n",
       "\n",
       "    .dataframe thead th {\n",
       "        text-align: right;\n",
       "    }\n",
       "</style>\n",
       "<table border=\"1\" class=\"dataframe\">\n",
       "  <thead>\n",
       "    <tr style=\"text-align: right;\">\n",
       "      <th></th>\n",
       "      <th>date</th>\n",
       "      <th>country</th>\n",
       "      <th>name</th>\n",
       "      <th>sales_2020</th>\n",
       "      <th>sales_2021</th>\n",
       "    </tr>\n",
       "  </thead>\n",
       "  <tbody>\n",
       "    <tr>\n",
       "      <th>0</th>\n",
       "      <td>2021-12-01</td>\n",
       "      <td>United States</td>\n",
       "      <td>Aammar</td>\n",
       "      <td>100.0</td>\n",
       "      <td>NaN</td>\n",
       "    </tr>\n",
       "    <tr>\n",
       "      <th>1</th>\n",
       "      <td>2022-10-01</td>\n",
       "      <td>United States</td>\n",
       "      <td>Amaar</td>\n",
       "      <td>200.0</td>\n",
       "      <td>150.0</td>\n",
       "    </tr>\n",
       "    <tr>\n",
       "      <th>2</th>\n",
       "      <td>2023-11-01</td>\n",
       "      <td>United States</td>\n",
       "      <td>Hamza</td>\n",
       "      <td>NaN</td>\n",
       "      <td>300.0</td>\n",
       "    </tr>\n",
       "    <tr>\n",
       "      <th>3</th>\n",
       "      <td>2024-12-01</td>\n",
       "      <td>United States</td>\n",
       "      <td>Hazma</td>\n",
       "      <td>200.0</td>\n",
       "      <td>150.0</td>\n",
       "    </tr>\n",
       "  </tbody>\n",
       "</table>\n",
       "</div>"
      ],
      "text/plain": [
       "         date        country    name  sales_2020  sales_2021\n",
       "0  2021-12-01  United States  Aammar       100.0         NaN\n",
       "1  2022-10-01  United States   Amaar       200.0       150.0\n",
       "2  2023-11-01  United States   Hamza         NaN       300.0\n",
       "3  2024-12-01  United States   Hazma       200.0       150.0"
      ]
     },
     "execution_count": 7,
     "metadata": {},
     "output_type": "execute_result"
    }
   ],
   "source": [
    "# Harmonize the name of the coutry\n",
    "country_mapping = {'USA': 'United States', 'U.S.A.': 'United States', 'America': 'United States'}\n",
    "df['country'] = df['country'].replace(country_mapping)\n",
    "df.head()"
   ]
  },
  {
   "cell_type": "code",
   "execution_count": 8,
   "metadata": {},
   "outputs": [
    {
     "data": {
      "application/vnd.microsoft.datawrangler.viewer.v0+json": {
       "columns": [
        {
         "name": "index",
         "rawType": "object",
         "type": "string"
        },
        {
         "name": "0",
         "rawType": "int64",
         "type": "integer"
        }
       ],
       "ref": "cc73fa01-c6c1-49fb-a43e-bd04e4cc2ec4",
       "rows": [
        [
         "date",
         "0"
        ],
        [
         "country",
         "0"
        ],
        [
         "name",
         "0"
        ],
        [
         "sales_2020",
         "1"
        ],
        [
         "sales_2021",
         "1"
        ]
       ],
       "shape": {
        "columns": 1,
        "rows": 5
       }
      },
      "text/plain": [
       "date          0\n",
       "country       0\n",
       "name          0\n",
       "sales_2020    1\n",
       "sales_2021    1\n",
       "dtype: int64"
      ]
     },
     "execution_count": 8,
     "metadata": {},
     "output_type": "execute_result"
    }
   ],
   "source": [
    "df.isnull().sum()"
   ]
  },
  {
   "cell_type": "code",
   "execution_count": 9,
   "metadata": {},
   "outputs": [
    {
     "data": {
      "application/vnd.microsoft.datawrangler.viewer.v0+json": {
       "columns": [
        {
         "name": "index",
         "rawType": "int64",
         "type": "integer"
        },
        {
         "name": "date",
         "rawType": "object",
         "type": "string"
        },
        {
         "name": "country",
         "rawType": "object",
         "type": "string"
        },
        {
         "name": "name",
         "rawType": "object",
         "type": "string"
        },
        {
         "name": "sales_2020",
         "rawType": "float64",
         "type": "float"
        },
        {
         "name": "sales_2021",
         "rawType": "float64",
         "type": "float"
        }
       ],
       "ref": "ab76e7c6-7070-4303-b948-79a0b735cc07",
       "rows": [
        [
         "0",
         "2024-12-01",
         "United States",
         "Aammar",
         "100.0",
         null
        ],
        [
         "1",
         "2022-10-01",
         "United States",
         "Amaar",
         "200.0",
         "150.0"
        ],
        [
         "2",
         "2023-11-01",
         "United States",
         "Hamza",
         null,
         "300.0"
        ],
        [
         "3",
         "2024-12-01",
         "United States",
         "Hazma",
         "200.0",
         "150.0"
        ]
       ],
       "shape": {
        "columns": 5,
        "rows": 4
       }
      },
      "text/html": [
       "<div>\n",
       "<style scoped>\n",
       "    .dataframe tbody tr th:only-of-type {\n",
       "        vertical-align: middle;\n",
       "    }\n",
       "\n",
       "    .dataframe tbody tr th {\n",
       "        vertical-align: top;\n",
       "    }\n",
       "\n",
       "    .dataframe thead th {\n",
       "        text-align: right;\n",
       "    }\n",
       "</style>\n",
       "<table border=\"1\" class=\"dataframe\">\n",
       "  <thead>\n",
       "    <tr style=\"text-align: right;\">\n",
       "      <th></th>\n",
       "      <th>date</th>\n",
       "      <th>country</th>\n",
       "      <th>name</th>\n",
       "      <th>sales_2020</th>\n",
       "      <th>sales_2021</th>\n",
       "    </tr>\n",
       "  </thead>\n",
       "  <tbody>\n",
       "    <tr>\n",
       "      <th>0</th>\n",
       "      <td>2024-12-01</td>\n",
       "      <td>United States</td>\n",
       "      <td>Aammar</td>\n",
       "      <td>100.0</td>\n",
       "      <td>NaN</td>\n",
       "    </tr>\n",
       "    <tr>\n",
       "      <th>1</th>\n",
       "      <td>2022-10-01</td>\n",
       "      <td>United States</td>\n",
       "      <td>Amaar</td>\n",
       "      <td>200.0</td>\n",
       "      <td>150.0</td>\n",
       "    </tr>\n",
       "    <tr>\n",
       "      <th>2</th>\n",
       "      <td>2023-11-01</td>\n",
       "      <td>United States</td>\n",
       "      <td>Hamza</td>\n",
       "      <td>NaN</td>\n",
       "      <td>300.0</td>\n",
       "    </tr>\n",
       "    <tr>\n",
       "      <th>3</th>\n",
       "      <td>2024-12-01</td>\n",
       "      <td>United States</td>\n",
       "      <td>Hazma</td>\n",
       "      <td>200.0</td>\n",
       "      <td>150.0</td>\n",
       "    </tr>\n",
       "  </tbody>\n",
       "</table>\n",
       "</div>"
      ],
      "text/plain": [
       "         date        country    name  sales_2020  sales_2021\n",
       "0  2024-12-01  United States  Aammar       100.0         NaN\n",
       "1  2022-10-01  United States   Amaar       200.0       150.0\n",
       "2  2023-11-01  United States   Hamza         NaN       300.0\n",
       "3  2024-12-01  United States   Hazma       200.0       150.0"
      ]
     },
     "execution_count": 9,
     "metadata": {},
     "output_type": "execute_result"
    }
   ],
   "source": [
    "date_mapping = {'2021-12-01': '2021-12-01', '2021-12-01': '2022-10-01', '2021-12-01': '2023-11-01', '2021-12-01':'2024-12-01' }\n",
    "df['date'] = df['date'].replace(date_mapping)\n",
    "df.head()"
   ]
  },
  {
   "cell_type": "code",
   "execution_count": 10,
   "metadata": {},
   "outputs": [
    {
     "data": {
      "application/vnd.microsoft.datawrangler.viewer.v0+json": {
       "columns": [
        {
         "name": "index",
         "rawType": "int64",
         "type": "integer"
        },
        {
         "name": "date",
         "rawType": "object",
         "type": "string"
        },
        {
         "name": "country",
         "rawType": "object",
         "type": "string"
        },
        {
         "name": "name",
         "rawType": "object",
         "type": "string"
        },
        {
         "name": "sales_2020",
         "rawType": "float64",
         "type": "float"
        },
        {
         "name": "sales_2021",
         "rawType": "float64",
         "type": "float"
        }
       ],
       "ref": "450421c3-bdde-488e-9c58-e08fb907d71d",
       "rows": [
        [
         "0",
         "2024-12-01",
         "United States",
         "Aammar",
         "100.0",
         null
        ],
        [
         "1",
         "2022-10-01",
         "United States",
         "Aammar",
         "200.0",
         "150.0"
        ],
        [
         "2",
         "2023-11-01",
         "United States",
         "Hamza",
         null,
         "300.0"
        ],
        [
         "3",
         "2024-12-01",
         "United States",
         "Hamza",
         "200.0",
         "150.0"
        ]
       ],
       "shape": {
        "columns": 5,
        "rows": 4
       }
      },
      "text/html": [
       "<div>\n",
       "<style scoped>\n",
       "    .dataframe tbody tr th:only-of-type {\n",
       "        vertical-align: middle;\n",
       "    }\n",
       "\n",
       "    .dataframe tbody tr th {\n",
       "        vertical-align: top;\n",
       "    }\n",
       "\n",
       "    .dataframe thead th {\n",
       "        text-align: right;\n",
       "    }\n",
       "</style>\n",
       "<table border=\"1\" class=\"dataframe\">\n",
       "  <thead>\n",
       "    <tr style=\"text-align: right;\">\n",
       "      <th></th>\n",
       "      <th>date</th>\n",
       "      <th>country</th>\n",
       "      <th>name</th>\n",
       "      <th>sales_2020</th>\n",
       "      <th>sales_2021</th>\n",
       "    </tr>\n",
       "  </thead>\n",
       "  <tbody>\n",
       "    <tr>\n",
       "      <th>0</th>\n",
       "      <td>2024-12-01</td>\n",
       "      <td>United States</td>\n",
       "      <td>Aammar</td>\n",
       "      <td>100.0</td>\n",
       "      <td>NaN</td>\n",
       "    </tr>\n",
       "    <tr>\n",
       "      <th>1</th>\n",
       "      <td>2022-10-01</td>\n",
       "      <td>United States</td>\n",
       "      <td>Aammar</td>\n",
       "      <td>200.0</td>\n",
       "      <td>150.0</td>\n",
       "    </tr>\n",
       "    <tr>\n",
       "      <th>2</th>\n",
       "      <td>2023-11-01</td>\n",
       "      <td>United States</td>\n",
       "      <td>Hamza</td>\n",
       "      <td>NaN</td>\n",
       "      <td>300.0</td>\n",
       "    </tr>\n",
       "    <tr>\n",
       "      <th>3</th>\n",
       "      <td>2024-12-01</td>\n",
       "      <td>United States</td>\n",
       "      <td>Hamza</td>\n",
       "      <td>200.0</td>\n",
       "      <td>150.0</td>\n",
       "    </tr>\n",
       "  </tbody>\n",
       "</table>\n",
       "</div>"
      ],
      "text/plain": [
       "         date        country    name  sales_2020  sales_2021\n",
       "0  2024-12-01  United States  Aammar       100.0         NaN\n",
       "1  2022-10-01  United States  Aammar       200.0       150.0\n",
       "2  2023-11-01  United States   Hamza         NaN       300.0\n",
       "3  2024-12-01  United States   Hamza       200.0       150.0"
      ]
     },
     "execution_count": 10,
     "metadata": {},
     "output_type": "execute_result"
    }
   ],
   "source": [
    "# Correct the typographical Mistakes in name\n",
    "# Let's assume we want to correct 'Jonh Doe' to 'John Doe'\n",
    "df['name'] = df['name'].replace({'Amaar': 'Aammar', 'Hazma': 'Hamza'})\n",
    "df.head()"
   ]
  },
  {
   "cell_type": "code",
   "execution_count": 11,
   "metadata": {},
   "outputs": [
    {
     "data": {
      "application/vnd.microsoft.datawrangler.viewer.v0+json": {
       "columns": [
        {
         "name": "index",
         "rawType": "int64",
         "type": "integer"
        },
        {
         "name": "date",
         "rawType": "object",
         "type": "string"
        },
        {
         "name": "country",
         "rawType": "object",
         "type": "string"
        },
        {
         "name": "name",
         "rawType": "object",
         "type": "string"
        },
        {
         "name": "sales_2020",
         "rawType": "float64",
         "type": "float"
        },
        {
         "name": "sales_2021",
         "rawType": "float64",
         "type": "float"
        }
       ],
       "ref": "340ce25c-5f64-4cd4-8256-508473aa82f8",
       "rows": [
        [
         "0",
         "2024-12-01",
         "United States",
         "Aammar",
         "100.0",
         null
        ],
        [
         "2",
         "2023-11-01",
         "United States",
         "Hamza",
         null,
         "300.0"
        ]
       ],
       "shape": {
        "columns": 5,
        "rows": 2
       }
      },
      "text/html": [
       "<div>\n",
       "<style scoped>\n",
       "    .dataframe tbody tr th:only-of-type {\n",
       "        vertical-align: middle;\n",
       "    }\n",
       "\n",
       "    .dataframe tbody tr th {\n",
       "        vertical-align: top;\n",
       "    }\n",
       "\n",
       "    .dataframe thead th {\n",
       "        text-align: right;\n",
       "    }\n",
       "</style>\n",
       "<table border=\"1\" class=\"dataframe\">\n",
       "  <thead>\n",
       "    <tr style=\"text-align: right;\">\n",
       "      <th></th>\n",
       "      <th>date</th>\n",
       "      <th>country</th>\n",
       "      <th>name</th>\n",
       "      <th>sales_2020</th>\n",
       "      <th>sales_2021</th>\n",
       "    </tr>\n",
       "  </thead>\n",
       "  <tbody>\n",
       "    <tr>\n",
       "      <th>0</th>\n",
       "      <td>2024-12-01</td>\n",
       "      <td>United States</td>\n",
       "      <td>Aammar</td>\n",
       "      <td>100.0</td>\n",
       "      <td>NaN</td>\n",
       "    </tr>\n",
       "    <tr>\n",
       "      <th>2</th>\n",
       "      <td>2023-11-01</td>\n",
       "      <td>United States</td>\n",
       "      <td>Hamza</td>\n",
       "      <td>NaN</td>\n",
       "      <td>300.0</td>\n",
       "    </tr>\n",
       "  </tbody>\n",
       "</table>\n",
       "</div>"
      ],
      "text/plain": [
       "         date        country    name  sales_2020  sales_2021\n",
       "0  2024-12-01  United States  Aammar       100.0         NaN\n",
       "2  2023-11-01  United States   Hamza         NaN       300.0"
      ]
     },
     "execution_count": 11,
     "metadata": {},
     "output_type": "execute_result"
    }
   ],
   "source": [
    "# remove duplicates\n",
    "df = df.drop_duplicates(subset=\"name\")\n",
    "df.head()"
   ]
  },
  {
   "cell_type": "code",
   "execution_count": 12,
   "metadata": {},
   "outputs": [
    {
     "data": {
      "application/vnd.microsoft.datawrangler.viewer.v0+json": {
       "columns": [
        {
         "name": "index",
         "rawType": "int64",
         "type": "integer"
        },
        {
         "name": "date",
         "rawType": "object",
         "type": "string"
        },
        {
         "name": "country",
         "rawType": "object",
         "type": "string"
        },
        {
         "name": "name",
         "rawType": "object",
         "type": "string"
        },
        {
         "name": "sales_2020",
         "rawType": "float64",
         "type": "float"
        },
        {
         "name": "sales_2021",
         "rawType": "float64",
         "type": "float"
        }
       ],
       "ref": "fb3640ab-a66a-4683-9db8-95c9454d2c3c",
       "rows": [
        [
         "0",
         "2024-12-01",
         "United States",
         "Aammar",
         "100.0",
         null
        ],
        [
         "2",
         "2023-11-01",
         "United States",
         "Hamza",
         null,
         "300.0"
        ]
       ],
       "shape": {
        "columns": 5,
        "rows": 2
       }
      },
      "text/html": [
       "<div>\n",
       "<style scoped>\n",
       "    .dataframe tbody tr th:only-of-type {\n",
       "        vertical-align: middle;\n",
       "    }\n",
       "\n",
       "    .dataframe tbody tr th {\n",
       "        vertical-align: top;\n",
       "    }\n",
       "\n",
       "    .dataframe thead th {\n",
       "        text-align: right;\n",
       "    }\n",
       "</style>\n",
       "<table border=\"1\" class=\"dataframe\">\n",
       "  <thead>\n",
       "    <tr style=\"text-align: right;\">\n",
       "      <th></th>\n",
       "      <th>date</th>\n",
       "      <th>country</th>\n",
       "      <th>name</th>\n",
       "      <th>sales_2020</th>\n",
       "      <th>sales_2021</th>\n",
       "    </tr>\n",
       "  </thead>\n",
       "  <tbody>\n",
       "    <tr>\n",
       "      <th>0</th>\n",
       "      <td>2024-12-01</td>\n",
       "      <td>United States</td>\n",
       "      <td>Aammar</td>\n",
       "      <td>100.0</td>\n",
       "      <td>NaN</td>\n",
       "    </tr>\n",
       "    <tr>\n",
       "      <th>2</th>\n",
       "      <td>2023-11-01</td>\n",
       "      <td>United States</td>\n",
       "      <td>Hamza</td>\n",
       "      <td>NaN</td>\n",
       "      <td>300.0</td>\n",
       "    </tr>\n",
       "  </tbody>\n",
       "</table>\n",
       "</div>"
      ],
      "text/plain": [
       "         date        country    name  sales_2020  sales_2021\n",
       "0  2024-12-01  United States  Aammar       100.0         NaN\n",
       "2  2023-11-01  United States   Hamza         NaN       300.0"
      ]
     },
     "execution_count": 12,
     "metadata": {},
     "output_type": "execute_result"
    }
   ],
   "source": [
    "# 5. Resolving Contradictory Data\n",
    "# For demonstration, let's assume sales_2021 should always be higher than sales_2020\n",
    "# We'll remove rows where this condition is not met\n",
    "df = df.drop(df[df['sales_2021'] <= df['sales_2020']].index)\n",
    "df.head()"
   ]
  }
 ],
 "metadata": {
  "kernelspec": {
   "display_name": "base",
   "language": "python",
   "name": "python3"
  },
  "language_info": {
   "codemirror_mode": {
    "name": "ipython",
    "version": 3
   },
   "file_extension": ".py",
   "mimetype": "text/x-python",
   "name": "python",
   "nbconvert_exporter": "python",
   "pygments_lexer": "ipython3",
   "version": "3.12.4"
  }
 },
 "nbformat": 4,
 "nbformat_minor": 2
}
