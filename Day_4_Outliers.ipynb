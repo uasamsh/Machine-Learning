{
 "cells": [
  {
   "cell_type": "markdown",
   "metadata": {},
   "source": [
    "# Removing Outliers from the data"
   ]
  },
  {
   "cell_type": "code",
<<<<<<< HEAD
   "execution_count": 1,
=======
   "execution_count": 17,
>>>>>>> b645e3a7f0b9ab246a2d4dd38307cafee3744112
   "metadata": {},
   "outputs": [],
   "source": [
    "import pandas as pd\n",
    "import numpy as np\n"
   ]
  },
  {
   "cell_type": "code",
<<<<<<< HEAD
   "execution_count": 2,
=======
   "execution_count": 18,
>>>>>>> b645e3a7f0b9ab246a2d4dd38307cafee3744112
   "metadata": {},
   "outputs": [
    {
     "data": {
<<<<<<< HEAD
      "application/vnd.microsoft.datawrangler.viewer.v0+json": {
       "columns": [
        {
         "name": "index",
         "rawType": "int64",
         "type": "integer"
        },
        {
         "name": "Age",
         "rawType": "int64",
         "type": "integer"
        }
       ],
       "ref": "62c21546-d355-4e5b-a76c-f09c63da511c",
       "rows": [
        [
         "0",
         "18"
        ],
        [
         "1",
         "19"
        ],
        [
         "2",
         "20"
        ],
        [
         "3",
         "21"
        ],
        [
         "4",
         "22"
        ],
        [
         "5",
         "23"
        ],
        [
         "6",
         "24"
        ],
        [
         "7",
         "25"
        ],
        [
         "8",
         "26"
        ],
        [
         "9",
         "27"
        ],
        [
         "10",
         "28"
        ],
        [
         "11",
         "29"
        ],
        [
         "12",
         "30"
        ],
        [
         "13",
         "31"
        ],
        [
         "14",
         "32"
        ],
        [
         "15",
         "33"
        ],
        [
         "16",
         "34"
        ],
        [
         "17",
         "35"
        ],
        [
         "18",
         "50"
        ]
       ],
       "shape": {
        "columns": 1,
        "rows": 19
       }
      },
=======
>>>>>>> b645e3a7f0b9ab246a2d4dd38307cafee3744112
      "text/html": [
       "<div>\n",
       "<style scoped>\n",
       "    .dataframe tbody tr th:only-of-type {\n",
       "        vertical-align: middle;\n",
       "    }\n",
       "\n",
       "    .dataframe tbody tr th {\n",
       "        vertical-align: top;\n",
       "    }\n",
       "\n",
       "    .dataframe thead th {\n",
       "        text-align: right;\n",
       "    }\n",
       "</style>\n",
       "<table border=\"1\" class=\"dataframe\">\n",
       "  <thead>\n",
       "    <tr style=\"text-align: right;\">\n",
       "      <th></th>\n",
       "      <th>Age</th>\n",
       "    </tr>\n",
       "  </thead>\n",
       "  <tbody>\n",
       "    <tr>\n",
       "      <th>0</th>\n",
       "      <td>18</td>\n",
       "    </tr>\n",
       "    <tr>\n",
       "      <th>1</th>\n",
       "      <td>19</td>\n",
       "    </tr>\n",
       "    <tr>\n",
       "      <th>2</th>\n",
       "      <td>20</td>\n",
       "    </tr>\n",
       "    <tr>\n",
       "      <th>3</th>\n",
       "      <td>21</td>\n",
       "    </tr>\n",
       "    <tr>\n",
       "      <th>4</th>\n",
       "      <td>22</td>\n",
       "    </tr>\n",
       "    <tr>\n",
       "      <th>5</th>\n",
       "      <td>23</td>\n",
       "    </tr>\n",
       "    <tr>\n",
       "      <th>6</th>\n",
       "      <td>24</td>\n",
       "    </tr>\n",
       "    <tr>\n",
       "      <th>7</th>\n",
       "      <td>25</td>\n",
       "    </tr>\n",
       "    <tr>\n",
       "      <th>8</th>\n",
       "      <td>26</td>\n",
       "    </tr>\n",
       "    <tr>\n",
       "      <th>9</th>\n",
       "      <td>27</td>\n",
       "    </tr>\n",
       "    <tr>\n",
       "      <th>10</th>\n",
       "      <td>28</td>\n",
       "    </tr>\n",
       "    <tr>\n",
       "      <th>11</th>\n",
       "      <td>29</td>\n",
       "    </tr>\n",
       "    <tr>\n",
       "      <th>12</th>\n",
       "      <td>30</td>\n",
       "    </tr>\n",
       "    <tr>\n",
       "      <th>13</th>\n",
       "      <td>31</td>\n",
       "    </tr>\n",
       "    <tr>\n",
       "      <th>14</th>\n",
       "      <td>32</td>\n",
       "    </tr>\n",
       "    <tr>\n",
       "      <th>15</th>\n",
       "      <td>33</td>\n",
       "    </tr>\n",
       "    <tr>\n",
       "      <th>16</th>\n",
       "      <td>34</td>\n",
       "    </tr>\n",
       "    <tr>\n",
       "      <th>17</th>\n",
       "      <td>35</td>\n",
       "    </tr>\n",
       "    <tr>\n",
       "      <th>18</th>\n",
       "      <td>50</td>\n",
       "    </tr>\n",
       "  </tbody>\n",
       "</table>\n",
       "</div>"
      ],
      "text/plain": [
       "    Age\n",
       "0    18\n",
       "1    19\n",
       "2    20\n",
       "3    21\n",
       "4    22\n",
       "5    23\n",
       "6    24\n",
       "7    25\n",
       "8    26\n",
       "9    27\n",
       "10   28\n",
       "11   29\n",
       "12   30\n",
       "13   31\n",
       "14   32\n",
       "15   33\n",
       "16   34\n",
       "17   35\n",
       "18   50"
      ]
     },
<<<<<<< HEAD
     "execution_count": 2,
=======
     "execution_count": 18,
>>>>>>> b645e3a7f0b9ab246a2d4dd38307cafee3744112
     "metadata": {},
     "output_type": "execute_result"
    }
   ],
   "source": [
    "# create data\n",
    "\n",
    "data = pd.DataFrame({'Age': [\n",
    "    18, 19, 20, 21, 22, 23, 24, 25, 26, 27, 28, 29, 30, 31, 32, 33, 34, 35,\n",
    "    50]})\n",
    "data"
   ]
  },
  {
   "cell_type": "code",
<<<<<<< HEAD
   "execution_count": 3,
=======
   "execution_count": 19,
>>>>>>> b645e3a7f0b9ab246a2d4dd38307cafee3744112
   "metadata": {},
   "outputs": [
    {
     "data": {
<<<<<<< HEAD
      "application/vnd.microsoft.datawrangler.viewer.v0+json": {
       "columns": [
        {
         "name": "index",
         "rawType": "int64",
         "type": "integer"
        },
        {
         "name": "Age",
         "rawType": "float64",
         "type": "float"
        }
       ],
       "ref": "321989be-ae41-4f6d-9f32-4158ee3b5e0c",
       "rows": [
        [
         "0",
         "-1.337003983203512"
        ],
        [
         "1",
         "-1.1996900606042327"
        ],
        [
         "2",
         "-1.062376138004953"
        ],
        [
         "3",
         "-0.9250622154056732"
        ],
        [
         "4",
         "-0.7877482928063937"
        ],
        [
         "5",
         "-0.650434370207114"
        ],
        [
         "6",
         "-0.5131204476078344"
        ],
        [
         "7",
         "-0.37580652500855477"
        ],
        [
         "8",
         "-0.2384926024092751"
        ],
        [
         "9",
         "-0.10117867980999547"
        ],
        [
         "10",
         "0.036135242789284164"
        ],
        [
         "11",
         "0.1734491653885638"
        ],
        [
         "12",
         "0.3107630879878434"
        ],
        [
         "13",
         "0.44807701058712307"
        ],
        [
         "14",
         "0.5853909331864027"
        ],
        [
         "15",
         "0.7227048557856823"
        ],
        [
         "16",
         "0.860018778384962"
        ],
        [
         "17",
         "0.9973327009842416"
        ],
        [
         "18",
         "3.057041539973436"
        ]
       ],
       "shape": {
        "columns": 1,
        "rows": 19
       }
      },
=======
>>>>>>> b645e3a7f0b9ab246a2d4dd38307cafee3744112
      "text/plain": [
       "0    -1.337004\n",
       "1    -1.199690\n",
       "2    -1.062376\n",
       "3    -0.925062\n",
       "4    -0.787748\n",
       "5    -0.650434\n",
       "6    -0.513120\n",
       "7    -0.375807\n",
       "8    -0.238493\n",
       "9    -0.101179\n",
       "10    0.036135\n",
       "11    0.173449\n",
       "12    0.310763\n",
       "13    0.448077\n",
       "14    0.585391\n",
       "15    0.722705\n",
       "16    0.860019\n",
       "17    0.997333\n",
       "18    3.057042\n",
       "Name: Age, dtype: float64"
      ]
     },
<<<<<<< HEAD
     "execution_count": 3,
=======
     "execution_count": 19,
>>>>>>> b645e3a7f0b9ab246a2d4dd38307cafee3744112
     "metadata": {},
     "output_type": "execute_result"
    }
   ],
   "source": [
    "# calculate mean and std\n",
    "from numpy import mean\n",
    "\n",
    "\n",
    "mean=np.mean(data['Age'])\n",
    "std=np.std(data['Age'])\n",
    "\n",
    "#calculate the z_score std\n",
    "z_score=(data['Age']-mean)/std\n",
    "z_score\n",
    "\n",
    "\n",
    "\n",
    "\n"
   ]
  },
  {
   "cell_type": "code",
<<<<<<< HEAD
   "execution_count": 4,
=======
   "execution_count": 20,
>>>>>>> b645e3a7f0b9ab246a2d4dd38307cafee3744112
   "metadata": {},
   "outputs": [
    {
     "data": {
<<<<<<< HEAD
      "application/vnd.microsoft.datawrangler.viewer.v0+json": {
       "columns": [
        {
         "name": "index",
         "rawType": "int64",
         "type": "integer"
        },
        {
         "name": "Age",
         "rawType": "int64",
         "type": "integer"
        }
       ],
       "ref": "41bc9bb4-79ba-4b72-8826-5d90e4601fa6",
       "rows": [
        [
         "0",
         "18"
        ],
        [
         "1",
         "19"
        ],
        [
         "2",
         "20"
        ],
        [
         "3",
         "21"
        ],
        [
         "4",
         "22"
        ]
       ],
       "shape": {
        "columns": 1,
        "rows": 5
       }
      },
=======
>>>>>>> b645e3a7f0b9ab246a2d4dd38307cafee3744112
      "text/html": [
       "<div>\n",
       "<style scoped>\n",
       "    .dataframe tbody tr th:only-of-type {\n",
       "        vertical-align: middle;\n",
       "    }\n",
       "\n",
       "    .dataframe tbody tr th {\n",
       "        vertical-align: top;\n",
       "    }\n",
       "\n",
       "    .dataframe thead th {\n",
       "        text-align: right;\n",
       "    }\n",
       "</style>\n",
       "<table border=\"1\" class=\"dataframe\">\n",
       "  <thead>\n",
       "    <tr style=\"text-align: right;\">\n",
       "      <th></th>\n",
       "      <th>Age</th>\n",
       "    </tr>\n",
       "  </thead>\n",
       "  <tbody>\n",
       "    <tr>\n",
       "      <th>0</th>\n",
       "      <td>18</td>\n",
       "    </tr>\n",
       "    <tr>\n",
       "      <th>1</th>\n",
       "      <td>19</td>\n",
       "    </tr>\n",
       "    <tr>\n",
       "      <th>2</th>\n",
       "      <td>20</td>\n",
       "    </tr>\n",
       "    <tr>\n",
       "      <th>3</th>\n",
       "      <td>21</td>\n",
       "    </tr>\n",
       "    <tr>\n",
       "      <th>4</th>\n",
       "      <td>22</td>\n",
       "    </tr>\n",
       "  </tbody>\n",
       "</table>\n",
       "</div>"
      ],
      "text/plain": [
       "   Age\n",
       "0   18\n",
       "1   19\n",
       "2   20\n",
       "3   21\n",
       "4   22"
      ]
     },
<<<<<<< HEAD
     "execution_count": 4,
=======
     "execution_count": 20,
>>>>>>> b645e3a7f0b9ab246a2d4dd38307cafee3744112
     "metadata": {},
     "output_type": "execute_result"
    }
   ],
   "source": [
    "data.head()"
   ]
  },
  {
   "cell_type": "markdown",
   "metadata": {},
   "source": [
    "# Remove Outliers"
   ]
  },
  {
   "cell_type": "code",
<<<<<<< HEAD
   "execution_count": 5,
=======
   "execution_count": 21,
>>>>>>> b645e3a7f0b9ab246a2d4dd38307cafee3744112
   "metadata": {},
   "outputs": [
    {
     "ename": "KeyError",
     "evalue": "'Z-Score'",
     "output_type": "error",
     "traceback": [
      "\u001b[1;31m---------------------------------------------------------------------------\u001b[0m",
      "\u001b[1;31mKeyError\u001b[0m                                  Traceback (most recent call last)",
<<<<<<< HEAD
      "File \u001b[1;32me:\\Anaconda\\Lib\\site-packages\\pandas\\core\\indexes\\base.py:3805\u001b[0m, in \u001b[0;36mIndex.get_loc\u001b[1;34m(self, key)\u001b[0m\n\u001b[0;32m   3804\u001b[0m \u001b[38;5;28;01mtry\u001b[39;00m:\n\u001b[1;32m-> 3805\u001b[0m     \u001b[38;5;28;01mreturn\u001b[39;00m \u001b[38;5;28mself\u001b[39m\u001b[38;5;241m.\u001b[39m_engine\u001b[38;5;241m.\u001b[39mget_loc(casted_key)\n\u001b[0;32m   3806\u001b[0m \u001b[38;5;28;01mexcept\u001b[39;00m \u001b[38;5;167;01mKeyError\u001b[39;00m \u001b[38;5;28;01mas\u001b[39;00m err:\n",
      "File \u001b[1;32mindex.pyx:167\u001b[0m, in \u001b[0;36mpandas._libs.index.IndexEngine.get_loc\u001b[1;34m()\u001b[0m\n",
      "File \u001b[1;32mindex.pyx:196\u001b[0m, in \u001b[0;36mpandas._libs.index.IndexEngine.get_loc\u001b[1;34m()\u001b[0m\n",
      "File \u001b[1;32mpandas\\\\_libs\\\\hashtable_class_helper.pxi:7081\u001b[0m, in \u001b[0;36mpandas._libs.hashtable.PyObjectHashTable.get_item\u001b[1;34m()\u001b[0m\n",
      "File \u001b[1;32mpandas\\\\_libs\\\\hashtable_class_helper.pxi:7089\u001b[0m, in \u001b[0;36mpandas._libs.hashtable.PyObjectHashTable.get_item\u001b[1;34m()\u001b[0m\n",
      "\u001b[1;31mKeyError\u001b[0m: 'Z-Score'",
      "\nThe above exception was the direct cause of the following exception:\n",
      "\u001b[1;31mKeyError\u001b[0m                                  Traceback (most recent call last)",
      "Cell \u001b[1;32mIn[5], line 2\u001b[0m\n\u001b[0;32m      1\u001b[0m \u001b[38;5;66;03m# calaculate data  just less than 3 and print \u001b[39;00m\n\u001b[1;32m----> 2\u001b[0m data[data[\u001b[38;5;124m'\u001b[39m\u001b[38;5;124mZ-Score\u001b[39m\u001b[38;5;124m'\u001b[39m] \u001b[38;5;241m<\u001b[39m\u001b[38;5;241m=\u001b[39m \u001b[38;5;241m3\u001b[39m]\n",
      "File \u001b[1;32me:\\Anaconda\\Lib\\site-packages\\pandas\\core\\frame.py:4102\u001b[0m, in \u001b[0;36mDataFrame.__getitem__\u001b[1;34m(self, key)\u001b[0m\n\u001b[0;32m   4100\u001b[0m \u001b[38;5;28;01mif\u001b[39;00m \u001b[38;5;28mself\u001b[39m\u001b[38;5;241m.\u001b[39mcolumns\u001b[38;5;241m.\u001b[39mnlevels \u001b[38;5;241m>\u001b[39m \u001b[38;5;241m1\u001b[39m:\n\u001b[0;32m   4101\u001b[0m     \u001b[38;5;28;01mreturn\u001b[39;00m \u001b[38;5;28mself\u001b[39m\u001b[38;5;241m.\u001b[39m_getitem_multilevel(key)\n\u001b[1;32m-> 4102\u001b[0m indexer \u001b[38;5;241m=\u001b[39m \u001b[38;5;28mself\u001b[39m\u001b[38;5;241m.\u001b[39mcolumns\u001b[38;5;241m.\u001b[39mget_loc(key)\n\u001b[0;32m   4103\u001b[0m \u001b[38;5;28;01mif\u001b[39;00m is_integer(indexer):\n\u001b[0;32m   4104\u001b[0m     indexer \u001b[38;5;241m=\u001b[39m [indexer]\n",
      "File \u001b[1;32me:\\Anaconda\\Lib\\site-packages\\pandas\\core\\indexes\\base.py:3812\u001b[0m, in \u001b[0;36mIndex.get_loc\u001b[1;34m(self, key)\u001b[0m\n\u001b[0;32m   3807\u001b[0m     \u001b[38;5;28;01mif\u001b[39;00m \u001b[38;5;28misinstance\u001b[39m(casted_key, \u001b[38;5;28mslice\u001b[39m) \u001b[38;5;129;01mor\u001b[39;00m (\n\u001b[0;32m   3808\u001b[0m         \u001b[38;5;28misinstance\u001b[39m(casted_key, abc\u001b[38;5;241m.\u001b[39mIterable)\n\u001b[0;32m   3809\u001b[0m         \u001b[38;5;129;01mand\u001b[39;00m \u001b[38;5;28many\u001b[39m(\u001b[38;5;28misinstance\u001b[39m(x, \u001b[38;5;28mslice\u001b[39m) \u001b[38;5;28;01mfor\u001b[39;00m x \u001b[38;5;129;01min\u001b[39;00m casted_key)\n\u001b[0;32m   3810\u001b[0m     ):\n\u001b[0;32m   3811\u001b[0m         \u001b[38;5;28;01mraise\u001b[39;00m InvalidIndexError(key)\n\u001b[1;32m-> 3812\u001b[0m     \u001b[38;5;28;01mraise\u001b[39;00m \u001b[38;5;167;01mKeyError\u001b[39;00m(key) \u001b[38;5;28;01mfrom\u001b[39;00m \u001b[38;5;21;01merr\u001b[39;00m\n\u001b[0;32m   3813\u001b[0m \u001b[38;5;28;01mexcept\u001b[39;00m \u001b[38;5;167;01mTypeError\u001b[39;00m:\n\u001b[0;32m   3814\u001b[0m     \u001b[38;5;66;03m# If we have a listlike key, _check_indexing_error will raise\u001b[39;00m\n\u001b[0;32m   3815\u001b[0m     \u001b[38;5;66;03m#  InvalidIndexError. Otherwise we fall through and re-raise\u001b[39;00m\n\u001b[0;32m   3816\u001b[0m     \u001b[38;5;66;03m#  the TypeError.\u001b[39;00m\n\u001b[0;32m   3817\u001b[0m     \u001b[38;5;28mself\u001b[39m\u001b[38;5;241m.\u001b[39m_check_indexing_error(key)\n",
=======
      "File \u001b[1;32mc:\\Users\\ushah\\miniconda3\\envs\\python_ml\\Lib\\site-packages\\pandas\\core\\indexes\\base.py:3790\u001b[0m, in \u001b[0;36mIndex.get_loc\u001b[1;34m(self, key)\u001b[0m\n\u001b[0;32m   3789\u001b[0m \u001b[38;5;28;01mtry\u001b[39;00m:\n\u001b[1;32m-> 3790\u001b[0m     \u001b[38;5;28;01mreturn\u001b[39;00m \u001b[38;5;28;43mself\u001b[39;49m\u001b[38;5;241;43m.\u001b[39;49m\u001b[43m_engine\u001b[49m\u001b[38;5;241;43m.\u001b[39;49m\u001b[43mget_loc\u001b[49m\u001b[43m(\u001b[49m\u001b[43mcasted_key\u001b[49m\u001b[43m)\u001b[49m\n\u001b[0;32m   3791\u001b[0m \u001b[38;5;28;01mexcept\u001b[39;00m \u001b[38;5;167;01mKeyError\u001b[39;00m \u001b[38;5;28;01mas\u001b[39;00m err:\n",
      "File \u001b[1;32mindex.pyx:152\u001b[0m, in \u001b[0;36mpandas._libs.index.IndexEngine.get_loc\u001b[1;34m()\u001b[0m\n",
      "File \u001b[1;32mindex.pyx:181\u001b[0m, in \u001b[0;36mpandas._libs.index.IndexEngine.get_loc\u001b[1;34m()\u001b[0m\n",
      "File \u001b[1;32mpandas\\_libs\\hashtable_class_helper.pxi:7080\u001b[0m, in \u001b[0;36mpandas._libs.hashtable.PyObjectHashTable.get_item\u001b[1;34m()\u001b[0m\n",
      "File \u001b[1;32mpandas\\_libs\\hashtable_class_helper.pxi:7088\u001b[0m, in \u001b[0;36mpandas._libs.hashtable.PyObjectHashTable.get_item\u001b[1;34m()\u001b[0m\n",
      "\u001b[1;31mKeyError\u001b[0m: 'Z-Score'",
      "\nThe above exception was the direct cause of the following exception:\n",
      "\u001b[1;31mKeyError\u001b[0m                                  Traceback (most recent call last)",
      "Cell \u001b[1;32mIn[21], line 2\u001b[0m\n\u001b[0;32m      1\u001b[0m \u001b[38;5;66;03m# calaculate data  just less than 3 and print \u001b[39;00m\n\u001b[1;32m----> 2\u001b[0m data[\u001b[43mdata\u001b[49m\u001b[43m[\u001b[49m\u001b[38;5;124;43m'\u001b[39;49m\u001b[38;5;124;43mZ-Score\u001b[39;49m\u001b[38;5;124;43m'\u001b[39;49m\u001b[43m]\u001b[49m \u001b[38;5;241m<\u001b[39m\u001b[38;5;241m=\u001b[39m \u001b[38;5;241m3\u001b[39m]\n",
      "File \u001b[1;32mc:\\Users\\ushah\\miniconda3\\envs\\python_ml\\Lib\\site-packages\\pandas\\core\\frame.py:3893\u001b[0m, in \u001b[0;36mDataFrame.__getitem__\u001b[1;34m(self, key)\u001b[0m\n\u001b[0;32m   3891\u001b[0m \u001b[38;5;28;01mif\u001b[39;00m \u001b[38;5;28mself\u001b[39m\u001b[38;5;241m.\u001b[39mcolumns\u001b[38;5;241m.\u001b[39mnlevels \u001b[38;5;241m>\u001b[39m \u001b[38;5;241m1\u001b[39m:\n\u001b[0;32m   3892\u001b[0m     \u001b[38;5;28;01mreturn\u001b[39;00m \u001b[38;5;28mself\u001b[39m\u001b[38;5;241m.\u001b[39m_getitem_multilevel(key)\n\u001b[1;32m-> 3893\u001b[0m indexer \u001b[38;5;241m=\u001b[39m \u001b[38;5;28;43mself\u001b[39;49m\u001b[38;5;241;43m.\u001b[39;49m\u001b[43mcolumns\u001b[49m\u001b[38;5;241;43m.\u001b[39;49m\u001b[43mget_loc\u001b[49m\u001b[43m(\u001b[49m\u001b[43mkey\u001b[49m\u001b[43m)\u001b[49m\n\u001b[0;32m   3894\u001b[0m \u001b[38;5;28;01mif\u001b[39;00m is_integer(indexer):\n\u001b[0;32m   3895\u001b[0m     indexer \u001b[38;5;241m=\u001b[39m [indexer]\n",
      "File \u001b[1;32mc:\\Users\\ushah\\miniconda3\\envs\\python_ml\\Lib\\site-packages\\pandas\\core\\indexes\\base.py:3797\u001b[0m, in \u001b[0;36mIndex.get_loc\u001b[1;34m(self, key)\u001b[0m\n\u001b[0;32m   3792\u001b[0m     \u001b[38;5;28;01mif\u001b[39;00m \u001b[38;5;28misinstance\u001b[39m(casted_key, \u001b[38;5;28mslice\u001b[39m) \u001b[38;5;129;01mor\u001b[39;00m (\n\u001b[0;32m   3793\u001b[0m         \u001b[38;5;28misinstance\u001b[39m(casted_key, abc\u001b[38;5;241m.\u001b[39mIterable)\n\u001b[0;32m   3794\u001b[0m         \u001b[38;5;129;01mand\u001b[39;00m \u001b[38;5;28many\u001b[39m(\u001b[38;5;28misinstance\u001b[39m(x, \u001b[38;5;28mslice\u001b[39m) \u001b[38;5;28;01mfor\u001b[39;00m x \u001b[38;5;129;01min\u001b[39;00m casted_key)\n\u001b[0;32m   3795\u001b[0m     ):\n\u001b[0;32m   3796\u001b[0m         \u001b[38;5;28;01mraise\u001b[39;00m InvalidIndexError(key)\n\u001b[1;32m-> 3797\u001b[0m     \u001b[38;5;28;01mraise\u001b[39;00m \u001b[38;5;167;01mKeyError\u001b[39;00m(key) \u001b[38;5;28;01mfrom\u001b[39;00m \u001b[38;5;21;01merr\u001b[39;00m\n\u001b[0;32m   3798\u001b[0m \u001b[38;5;28;01mexcept\u001b[39;00m \u001b[38;5;167;01mTypeError\u001b[39;00m:\n\u001b[0;32m   3799\u001b[0m     \u001b[38;5;66;03m# If we have a listlike key, _check_indexing_error will raise\u001b[39;00m\n\u001b[0;32m   3800\u001b[0m     \u001b[38;5;66;03m#  InvalidIndexError. Otherwise we fall through and re-raise\u001b[39;00m\n\u001b[0;32m   3801\u001b[0m     \u001b[38;5;66;03m#  the TypeError.\u001b[39;00m\n\u001b[0;32m   3802\u001b[0m     \u001b[38;5;28mself\u001b[39m\u001b[38;5;241m.\u001b[39m_check_indexing_error(key)\n",
>>>>>>> b645e3a7f0b9ab246a2d4dd38307cafee3744112
      "\u001b[1;31mKeyError\u001b[0m: 'Z-Score'"
     ]
    }
   ],
   "source": [
    "# calaculate data  just less than 3 and print \n",
    "data[data['Z-Score'] <= 3]"
   ]
  },
  {
   "cell_type": "code",
   "execution_count": null,
   "metadata": {},
   "outputs": [
    {
     "data": {
<<<<<<< HEAD
      "application/vnd.microsoft.datawrangler.viewer.v0+json": {
       "columns": [
        {
         "name": "index",
         "rawType": "int64",
         "type": "integer"
        },
        {
         "name": "Age",
         "rawType": "float64",
         "type": "float"
        }
       ],
       "ref": "7d6346c7-f010-48cb-bbdc-8dffcde05663",
       "rows": [
        [
         "0",
         "-1.337003983203512"
        ],
        [
         "1",
         "-1.1996900606042327"
        ],
        [
         "2",
         "-1.062376138004953"
        ],
        [
         "3",
         "-0.9250622154056732"
        ],
        [
         "4",
         "-0.7877482928063937"
        ]
       ],
       "shape": {
        "columns": 1,
        "rows": 5
       }
      },
=======
>>>>>>> b645e3a7f0b9ab246a2d4dd38307cafee3744112
      "text/plain": [
       "0   -1.337004\n",
       "1   -1.199690\n",
       "2   -1.062376\n",
       "3   -0.925062\n",
       "4   -0.787748\n",
       "Name: Age, dtype: float64"
      ]
     },
<<<<<<< HEAD
     "execution_count": 12,
=======
     "execution_count": 11,
>>>>>>> b645e3a7f0b9ab246a2d4dd38307cafee3744112
     "metadata": {},
     "output_type": "execute_result"
    }
   ],
   "source": [
    "z_score.head()"
   ]
  },
  {
   "cell_type": "code",
   "execution_count": null,
   "metadata": {},
   "outputs": [
    {
     "name": "stdout",
     "output_type": "stream",
     "text": [
      "----------------------------------------\n",
      "Here is the data with outliers:\n",
      "     Age   Z-Score\n",
      "0    20 -0.938954\n",
      "1    21 -0.806396\n",
      "2    22 -0.673838\n",
      "3    23 -0.541280\n",
      "4    24 -0.408721\n",
      "5    25 -0.276163\n",
      "6    26 -0.143605\n",
      "7    27 -0.011047\n",
      "8    28  0.121512\n",
      "9    29  0.254070\n",
      "10   30  0.386628\n",
      "11   50  3.037793\n",
      "----------------------------------------\n",
      "Here are the outliers based on the z-score threshold, 3:\n",
      "     Age   Z-Score\n",
      "11   50  3.037793\n",
      "----------------------------------------\n",
      "Here is the data without outliers:\n",
      "     Age   Z-Score\n",
      "0    20 -0.938954\n",
      "1    21 -0.806396\n",
      "2    22 -0.673838\n",
      "3    23 -0.541280\n",
      "4    24 -0.408721\n",
      "5    25 -0.276163\n",
      "6    26 -0.143605\n",
      "7    27 -0.011047\n",
      "8    28  0.121512\n",
      "9    29  0.254070\n",
      "10   30  0.386628\n"
     ]
    }
   ],
   "source": [
    "# Step 1: Import the required libraries\n",
    "import pandas as pd\n",
    "import numpy as np\n",
    "\n",
    "# Step 2: Create the data\n",
    "data = pd.DataFrame({'Age': [20, 21, 22, 23, 24, 25, 26, 27, 28, 29, 30, 50]})\n",
    "\n",
    "# Step 3: Calculate the mean and standard deviation\n",
    "mean = np.mean(data['Age'])\n",
    "std = np.std(data['Age'])\n",
    "\n",
    "# Step 4: Calculate the Z-Score\n",
    "data['Z-Score'] = (data['Age'] - mean) / std\n",
    "\n",
    "# Step 5: Print the data\n",
    "print(\"----------------------------------------\")\n",
    "print(f\"Here is the data with outliers:\\n {data}\")\n",
    "print(\"----------------------------------------\")\n",
    "# Step 6: Print the outliers\n",
    "print(f\"Here are the outliers based on the z-score threshold, 3:\\n {data[data['Z-Score'] > 3]}\")\n",
    "print(\"----------------------------------------\")\n",
    "# Step 7: Remove the outliers\n",
    "data = data[data['Z-Score'] <= 3]\n",
    "\n",
    "# Step 8: Print the data without outliers\n",
    "print(f\"Here is the data without outliers:\\n {data}\")"
   ]
  },
  {
   "cell_type": "markdown",
   "metadata": {},
   "source": [
    "# Scipy lib"
   ]
  },
  {
   "cell_type": "code",
   "execution_count": null,
   "metadata": {},
   "outputs": [
    {
<<<<<<< HEAD
     "ename": "ModuleNotFoundError",
     "evalue": "No module named 'scpy'",
     "output_type": "error",
     "traceback": [
      "\u001b[1;31m---------------------------------------------------------------------------\u001b[0m",
      "\u001b[1;31mModuleNotFoundError\u001b[0m                       Traceback (most recent call last)",
      "Cell \u001b[1;32mIn[16], line 1\u001b[0m\n\u001b[1;32m----> 1\u001b[0m \u001b[38;5;28;01mimport\u001b[39;00m \u001b[38;5;21;01mscpy\u001b[39;00m\u001b[38;5;21;01m.\u001b[39;00m\u001b[38;5;21;01mstats\u001b[39;00m \u001b[38;5;28;01mas\u001b[39;00m \u001b[38;5;21;01mstats\u001b[39;00m\n\u001b[0;32m      2\u001b[0m \u001b[38;5;28;01mfrom\u001b[39;00m \u001b[38;5;21;01mscipy\u001b[39;00m \u001b[38;5;28;01mimport\u001b[39;00m stats\n\u001b[0;32m      3\u001b[0m outliers \u001b[38;5;241m=\u001b[39m data[(data[\u001b[38;5;124m'\u001b[39m\u001b[38;5;124mAge\u001b[39m\u001b[38;5;124m'\u001b[39m] \u001b[38;5;241m<\u001b[39m lower_bound) \u001b[38;5;241m|\u001b[39m (data[\u001b[38;5;124m'\u001b[39m\u001b[38;5;124mAge\u001b[39m\u001b[38;5;124m'\u001b[39m] \u001b[38;5;241m>\u001b[39m upper_bound)]\n",
      "\u001b[1;31mModuleNotFoundError\u001b[0m: No module named 'scpy'"
     ]
    }
   ],
   "source": [
    "import scpy.stats as stats\n",
=======
     "data": {
      "text/html": [
       "<div>\n",
       "<style scoped>\n",
       "    .dataframe tbody tr th:only-of-type {\n",
       "        vertical-align: middle;\n",
       "    }\n",
       "\n",
       "    .dataframe tbody tr th {\n",
       "        vertical-align: top;\n",
       "    }\n",
       "\n",
       "    .dataframe thead th {\n",
       "        text-align: right;\n",
       "    }\n",
       "</style>\n",
       "<table border=\"1\" class=\"dataframe\">\n",
       "  <thead>\n",
       "    <tr style=\"text-align: right;\">\n",
       "      <th></th>\n",
       "      <th>Age</th>\n",
       "      <th>Z-Score</th>\n",
       "    </tr>\n",
       "  </thead>\n",
       "  <tbody>\n",
       "  </tbody>\n",
       "</table>\n",
       "</div>"
      ],
      "text/plain": [
       "Empty DataFrame\n",
       "Columns: [Age, Z-Score]\n",
       "Index: []"
      ]
     },
     "execution_count": 19,
     "metadata": {},
     "output_type": "execute_result"
    }
   ],
   "source": [
>>>>>>> b645e3a7f0b9ab246a2d4dd38307cafee3744112
    "from scipy import stats\n",
    "outliers = data[(data['Age'] < lower_bound) | (data['Age'] > upper_bound)]\n",
    "outliers"
   ]
  },
  {
   "cell_type": "code",
   "execution_count": null,
   "metadata": {},
   "outputs": [
    {
     "name": "stdout",
     "output_type": "stream",
     "text": [
      "[2.5, 2.7, 2.8, 3.0, 3.2, 3.4, 3.6, 3.8, 4.0, 110.0]\n"
     ]
    },
    {
     "data": {
      "text/plain": [
       "array([9], dtype=int64)"
      ]
     },
     "execution_count": 24,
     "metadata": {},
     "output_type": "execute_result"
    }
   ],
   "source": [
    "# Sample data\n",
    "data = [2.5, 2.7, 2.8, 3.0, 3.2, 3.4, 3.6, 3.8, 4.0, 110.0]\n",
    "print(data)\n",
    "# Calculate the Z-score for each data point\n",
    "z_scores =np.abs(stats.zscore(data))\n",
    "\n",
    "threshold=2.5\n",
    "\n",
    "# Identify outliers\n",
    "outliers = np.where(z_scores > threshold)[0]\n",
    "outliers\n"
   ]
  },
  {
   "cell_type": "code",
   "execution_count": null,
   "metadata": {},
   "outputs": [
    {
     "name": "stdout",
     "output_type": "stream",
     "text": [
      "Indices of Outliers: [9]\n",
      "Outliers: [110.0]\n"
     ]
    }
   ],
   "source": [
    "print(\"Indices of Outliers:\", outliers)\n",
    "print(\"Outliers:\", [data[i] for i in outliers])"
   ]
  },
  {
   "cell_type": "markdown",
   "metadata": {},
   "source": [
    "# Remove outliers"
   ]
  },
  {
   "cell_type": "code",
   "execution_count": null,
   "metadata": {},
   "outputs": [],
   "source": [
    "data = [data[i] for i in range(len(data)) if i not in outliers]\n",
    "\n",
    "print(\"Data without outliers:\", data)"
   ]
  },
  {
   "cell_type": "code",
   "execution_count": null,
   "metadata": {},
   "outputs": [
    {
     "name": "stdout",
     "output_type": "stream",
     "text": [
      "----------------------------------------\n",
      "Data: [2.5, 2.7, 2.8, 3.0, 3.2, 3.4, 3.6, 3.8, 4.0, 110.0]\n",
      "----------------------------------------\n",
      "Indices of Outliers: [9]\n",
      "Outliers: [110.0]\n",
      "----------------------------------------\n",
      "Data without outliers: [2.5, 2.7, 2.8, 3.0, 3.2, 3.4, 3.6, 3.8, 4.0]\n"
     ]
    }
   ],
   "source": [
    "# Import libraries\n",
    "import numpy as np\n",
    "from scipy import stats\n",
    "\n",
    "# Sample data\n",
    "data = [2.5, 2.7, 2.8, 3.0, 3.2, 3.4, 3.6, 3.8, 4.0, 110.0]\n",
    "\n",
    "# Calculate the Z-score for each data point\n",
    "z_scores = np.abs(stats.zscore(data))\n",
    "\n",
    "# Set a threshold for identifying outliers\n",
    "threshold = 2.5 \n",
    "outliers = np.where(z_scores > threshold)[0]\n",
    "\n",
    "# print the data\n",
    "print(\"----------------------------------------\")\n",
    "print(\"Data:\", data)\n",
    "print(\"----------------------------------------\")\n",
    "\n",
    "print(\"Indices of Outliers:\", outliers)\n",
    "print(\"Outliers:\", [data[i] for i in outliers])\n",
    "\n",
    "# Remove outliers\n",
    "data = [data[i] for i in range(len(data)) if i not in outliers]\n",
    "print(\"----------------------------------------\")\n",
    "print(\"Data without outliers:\", data)"
   ]
  },
  {
   "cell_type": "markdown",
   "metadata": {},
   "source": [
    "# find and removing outliers with `IQR`"
   ]
  },
  {
   "cell_type": "code",
   "execution_count": null,
   "metadata": {},
   "outputs": [],
   "source": [
    "# find outliers\n",
    "\n",
    "q1 = data['Age'].quantile(0.25)\n",
    "q3 = data['Age'].quantile(0.75)\n",
    "iqr = q3 - q1\n",
    "upper_bound = q3 + 1.5 * iqr\n",
    "lower_bound = q1 - 1.5 * iqr"
   ]
  },
  {
   "cell_type": "code",
   "execution_count": null,
   "metadata": {},
   "outputs": [
    {
     "name": "stdout",
     "output_type": "stream",
     "text": [
      "Data with outliers :     Age\n",
      "0    20\n",
      "1    21\n",
      "2    22\n",
      "3    23\n",
      "4    24\n",
      "5    25\n",
      "6    26\n",
      "7    27\n",
      "8    28\n",
      "9    29\n",
      "10   30\n",
      "11   50\n",
      "----------------------------------------\n",
      "Data withot outliers :     Age\n",
      "0    20\n",
      "1    21\n",
      "2    22\n",
      "3    23\n",
      "4    24\n",
      "5    25\n",
      "6    26\n",
      "7    27\n",
      "8    28\n",
      "9    29\n",
      "10   30\n",
      "None\n"
     ]
    }
   ],
   "source": [
    "data = pd.DataFrame({'Age': [20, 21, 22, 23, 24, 25, 26, 27, 28, 29, 30, 50]})\n",
    "q1 = data['Age'].quantile(0.25)\n",
    "q3 = data['Age'].quantile(0.75)\n",
    "iqr = q3 - q1\n",
    "upper_bound = q3 + 1.5 * iqr\n",
    "lower_bound = q1 - 1.5 * iqr\n",
    "print(\"Data with outliers :\", data)\n",
    "print(\"----------------------------------------\")\n",
    "data = data[(data['Age'] >= lower_bound) & (data['Age'] <= upper_bound)]\n",
    "print(print(\"Data withot outliers :\", data))"
   ]
  },
  {
   "cell_type": "code",
   "execution_count": null,
   "metadata": {},
   "outputs": [
    {
     "name": "stdout",
     "output_type": "stream",
     "text": [
      "----------------------------------------\n",
      "Here is the data with outliers:\n",
      "     Age\n",
      "0    20\n",
      "1    21\n",
      "2    22\n",
      "3    23\n",
      "4    24\n",
      "5    25\n",
      "6    26\n",
      "7    27\n",
      "8    28\n",
      "9    29\n",
      "10   30\n",
      "11   50\n",
      "----------------------------------------\n",
      "Here are the outliers based on the IQR threshold:\n",
      "     Age\n",
      "11   50\n",
      "----------------------------------------\n",
      "Here is the data without outliers:\n",
      "     Age\n",
      "0    20\n",
      "1    21\n",
      "2    22\n",
      "3    23\n",
      "4    24\n",
      "5    25\n",
      "6    26\n",
      "7    27\n",
      "8    28\n",
      "9    29\n",
      "10   30\n"
     ]
    }
   ],
   "source": [
    "# Step 1: Import the required libraries\n",
    "import pandas as pd\n",
    "import numpy as np\n",
    "\n",
    "# Step 2: Create the data\n",
    "data = pd.DataFrame({'Age': [20, 21, 22, 23, 24, 25, 26, 27, 28, 29, 30, 50]})\n",
    "\n",
    "# Step 3: Calculate the first and third quartile\n",
    "Q1 = np.percentile(data['Age'], 25, interpolation = 'midpoint')\n",
    "Q3 = np.percentile(data['Age'], 75, interpolation = 'midpoint')\n",
    "\n",
    "# Step 4: Calculate the IQR\n",
    "IQR = Q3 - Q1\n",
    "\n",
    "# Step 5: Calculate the lower and upper bound\n",
    "lower_bound = Q1 - (1.5 * IQR)\n",
    "upper_bound = Q3 + (1.5 * IQR)\n",
    "\n",
    "# Step 6: Print the data\n",
    "print(\"----------------------------------------\")\n",
    "print(f\"Here is the data with outliers:\\n {data}\")\n",
    "print(\"----------------------------------------\")\n",
    "# Step 7: Print the outliers\n",
    "print(f\"Here are the outliers based on the IQR threshold:\\n {data[(data['Age'] < lower_bound) | (data['Age'] > upper_bound)]}\")\n",
    "print(\"----------------------------------------\")\n",
    "# Step 8: Remove the outliers\n",
    "data = data[(data['Age'] >= lower_bound) & (data['Age'] <= upper_bound)]\n",
    "\n",
    "# Step 9: Print the data without outliers\n",
    "print(f\"Here is the data without outliers:\\n {data}\")"
   ]
  },
  {
   "cell_type": "markdown",
   "metadata": {},
   "source": [
    "# Generating a dataset with outliers "
   ]
  },
  {
   "cell_type": "code",
   "execution_count": null,
   "metadata": {},
   "outputs": [
    {
     "data": {
      "image/png": "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",
      "text/plain": [
       "<Figure size 1400x600 with 2 Axes>"
      ]
     },
     "metadata": {},
     "output_type": "display_data"
    }
   ],
   "source": [
    "import numpy as np\n",
    "import pandas as pd\n",
    "import matplotlib.pyplot as plt\n",
    "import seaborn as sns\n",
    "\n",
    "np.random.seed(0)\n",
    "\n",
    "# Sample data\n",
    "data = np.random.normal(100,20, 200)\n",
    "data = np.append(data,[300,5]) # adding outliers\n",
    "\n",
    "#calculating IQR\n",
    "\n",
    "Q1 = np.percentile(data, 25)\n",
    "Q3 = np.percentile(data, 75)\n",
    "IQR = Q3 - Q1\n",
    "\n",
    "#calculating lower and upper bounds\n",
    "lower_bound = Q1 - (1.5 * IQR)\n",
    "upper_bound = Q3 + (1.5 * IQR)\n",
    "\n",
    "\n",
    "# Identify outliers\n",
    "outliers=(data < lower_bound) | (data > upper_bound)\n",
    "\n",
    "# Remove outliers\n",
    "data_no_outliers = data[~outliers]\n",
    "\n",
    "# plotting the original data and outliers\n",
    "plt.figure(figsize=(14, 6))\n",
    "plt.subplot(1,2,1)\n",
    "plt.boxplot(data)\n",
    "plt.title(\"Original Data with outliers\")\n",
    "\n",
    "# plotting the data after removing outliers\n",
    "plt.subplot(1,2,2)\n",
    "plt.boxplot(data_no_outliers)\n",
    "plt.title(\"Data without outliers\")\n",
    "\n",
    "\n",
    "plt.show()\n",
    "\n"
   ]
  },
  {
   "cell_type": "markdown",
   "metadata": {},
   "source": [
    "# Clustering Method (K-Means)\n",
    "## removing outliers with K-Means Clustering"
   ]
  },
  {
   "cell_type": "code",
   "execution_count": null,
   "metadata": {},
   "outputs": [
    {
     "name": "stdout",
     "output_type": "stream",
     "text": [
      "Data: [[2, 2], [3, 3], [3, 4], [30, 30], [31, 31], [32, 32]]\n",
      "Outliers: [[2, 2], [3, 3], [3, 4]]\n",
      "Data without outliers: [[30, 30], [31, 31], [32, 32]]\n"
     ]
    }
   ],
   "source": [
    "# Import library\n",
    "from sklearn.cluster import KMeans\n",
    "\n",
    "# Sample data\n",
    "data = [[2, 2], [3, 3], [3, 4], [30, 30], [31, 31], [32, 32]]\n",
    "\n",
    "# Create a K-means model with two clusters (normal and outlier)\n",
    "kmeans = KMeans(n_clusters=2, n_init=10)\n",
    "kmeans.fit(data)\n",
    "\n",
    "# Predict cluster labels\n",
    "labels = kmeans.predict(data)\n",
    "\n",
    "# Identify outliers based on cluster labels\n",
    "outliers = [data[i] for i, label in enumerate(labels) if label == 1]\n",
    "\n",
    "# print data\n",
    "print(\"Data:\", data)\n",
    "print(\"Outliers:\", outliers)\n",
    "# Remove outliers\n",
    "data = [data[i] for i, label in enumerate(labels) if label == 0]\n",
    "print(\"Data without outliers:\", data)"
   ]
  },
  {
   "cell_type": "code",
   "execution_count": null,
   "metadata": {},
   "outputs": [],
   "source": []
  }
 ],
 "metadata": {
  "kernelspec": {
<<<<<<< HEAD
   "display_name": "base",
=======
   "display_name": "python_ml",
>>>>>>> b645e3a7f0b9ab246a2d4dd38307cafee3744112
   "language": "python",
   "name": "python3"
  },
  "language_info": {
   "codemirror_mode": {
    "name": "ipython",
    "version": 3
   },
   "file_extension": ".py",
   "mimetype": "text/x-python",
   "name": "python",
   "nbconvert_exporter": "python",
   "pygments_lexer": "ipython3",
<<<<<<< HEAD
   "version": "3.12.4"
=======
   "version": "3.12.0"
>>>>>>> b645e3a7f0b9ab246a2d4dd38307cafee3744112
  }
 },
 "nbformat": 4,
 "nbformat_minor": 2
}
