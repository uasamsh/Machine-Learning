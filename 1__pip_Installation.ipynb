{
 "cells": [
  {
   "cell_type": "markdown",
   "id": "9362dbcd",
   "metadata": {},
   "source": [
    "# Installation Libraries ipynb\n",
    "\n",
    "Steps:\n",
    "\n",
    "Creata a new conda environment python\\_ml\n",
    "\n",
    "install the following packages:\n",
    "\n",
    "python conda install python\n",
    "\n",
    "pandas\n",
    "\n",
    "numpy\n",
    "\n",
    "matplotlib\n",
    "\n",
    "seaborn\n",
    "\n",
    "scipy\n",
    "\n",
    "scikit-learn\n",
    "\n",
    "jupyter\n",
    "\n",
    "openpyxl\n",
    "\n",
    "plotly\n",
    "\n",
    "pip install pandas numpy matplotlib seaborn scipy scikit-learn jupyter openpyxl plotly"
   ]
  },
  {
   "cell_type": "code",
   "execution_count": 2,
   "id": "7c9425d0",
   "metadata": {},
   "outputs": [],
   "source": [
    "import pandas as pd\n",
    "\n",
    "import numpy as np \n",
    "\n",
    "import matplotlib.pyplot as plt "
   ]
  },
  {
   "cell_type": "code",
   "execution_count": 4,
   "id": "26444e4f",
   "metadata": {},
   "outputs": [
    {
     "data": {
      "text/plain": [
       "np.float64(1.1102230246251565e-16)"
      ]
     },
     "execution_count": 4,
     "metadata": {},
     "output_type": "execute_result"
    }
   ],
   "source": [
    "from sklearn import linear_model\n",
    "reg = linear_model.LinearRegression()\n",
    "reg.fit([[0, 0], [1, 1], [2, 2]], [0, 1, 2])\n",
    "reg.coef_\n",
    "reg.intercept_\n"
   ]
  }
 ],
 "metadata": {
  "kernelspec": {
   "display_name": "python_ml",
   "language": "python",
   "name": "python3"
  },
  "language_info": {
   "codemirror_mode": {
    "name": "ipython",
    "version": 3
   },
   "file_extension": ".py",
   "mimetype": "text/x-python",
   "name": "python",
   "nbconvert_exporter": "python",
   "pygments_lexer": "ipython3",
   "version": "3.12.0"
  }
 },
 "nbformat": 4,
 "nbformat_minor": 5
}
