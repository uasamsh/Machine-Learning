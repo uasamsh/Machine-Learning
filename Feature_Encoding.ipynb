{
 "cells": [
  {
   "cell_type": "markdown",
   "metadata": {},
   "source": [
    "# 1. Feature_Encoding  use in categorical varialbe\n",
    "# 2. Feature_Encoding Tkes categorical values convert in to int like in column Sex :Male = 0 , Female = 1, column Class: First =0 , Sec=1, third=2\n",
    "# We have 3 methods of Feature_Encoding like:\n",
    "# 1. One hot encoding\n",
    "# 2. Lable Encoding\n",
    "# 3. Ordinal Encoding\n",
    "\n"
   ]
  },
  {
   "cell_type": "markdown",
   "metadata": {},
   "source": [
    "# 1. One hot encoding"
   ]
  },
  {
   "cell_type": "code",
   "execution_count": 3,
   "metadata": {},
   "outputs": [
    {
     "name": "stdout",
     "output_type": "stream",
     "text": [
      "   Color\n",
      "0    Red\n",
      "1  Green\n",
      "2   Blue\n",
      "3    Red\n",
      "   Color_Blue  Color_Green  Color_Red\n",
      "0       False        False       True\n",
      "1       False         True      False\n",
      "2        True        False      False\n",
      "3       False        False       True\n"
     ]
    }
   ],
   "source": [
    "import pandas as pd\n",
    "# Sample data\n",
    "data = {'Color': ['Red', 'Green', 'Blue', 'Red']}\n",
    "df =pd.DataFrame(data)\n",
    "print(df)\n",
    "# One-Hot Encoding\n",
    "encoded_data=pd.get_dummies(df,columns=['Color'])\n",
    "print(encoded_data)"
   ]
  },
  {
   "cell_type": "markdown",
   "metadata": {},
   "source": [
    "# 2. Label Encoding"
   ]
  },
  {
   "cell_type": "code",
   "execution_count": 4,
   "metadata": {},
   "outputs": [
    {
     "name": "stdout",
     "output_type": "stream",
     "text": [
      "  Animal\n",
      "0    Dog\n",
      "1    Cat\n",
      "2   Bird\n",
      "3    Dog\n",
      "4   Bird\n",
      "  Animal  Animal_encoded\n",
      "0    Dog               2\n",
      "1    Cat               1\n",
      "2   Bird               0\n",
      "3    Dog               2\n",
      "4   Bird               0\n"
     ]
    }
   ],
   "source": [
    "from sklearn.preprocessing import LabelEncoder\n",
    "# Sample data\n",
    "data = {'Animal': ['Dog', 'Cat', 'Bird', 'Dog', \"Bird\"]}\n",
    "df = pd.DataFrame(data)\n",
    "print(df)\n",
    "\n",
    "# Label Encoding\n",
    "label_encoder = LabelEncoder()\n",
    "df['Animal_encoded'] = label_encoder.fit_transform(df['Animal'])\n",
    "print(df)"
   ]
  },
  {
   "cell_type": "markdown",
   "metadata": {},
   "source": [
    "# 3 . Ordinal Encoding"
   ]
  },
  {
   "cell_type": "code",
   "execution_count": 5,
   "metadata": {},
   "outputs": [
    {
     "name": "stdout",
     "output_type": "stream",
     "text": [
      "     Size\n",
      "0   Small\n",
      "1  Medium\n",
      "2   Large\n",
      "3  Medium\n",
      "     Size  Size_encoded\n",
      "0   Small           0.0\n",
      "1  Medium           1.0\n",
      "2   Large           2.0\n",
      "3  Medium           1.0\n"
     ]
    }
   ],
   "source": [
    "from sklearn.preprocessing import OrdinalEncoder\n",
    "# Sample data\n",
    "data = {'Size': ['Small', 'Medium', 'Large', 'Medium']}\n",
    "df = pd.DataFrame(data)\n",
    "print(df)\n",
    "\n",
    "# Ordinal Encoding\n",
    "ordinal_encoder = OrdinalEncoder(categories=[['Small', 'Medium', 'Large']])\n",
    "df['Size_encoded'] = ordinal_encoder.fit_transform(df[['Size']])\n",
    "print(df)\n"
   ]
  }
 ],
 "metadata": {
  "kernelspec": {
   "display_name": "python_eda",
   "language": "python",
   "name": "python3"
  },
  "language_info": {
   "codemirror_mode": {
    "name": "ipython",
    "version": 3
   },
   "file_extension": ".py",
   "mimetype": "text/x-python",
   "name": "python",
   "nbconvert_exporter": "python",
   "pygments_lexer": "ipython3",
   "version": "3.12.0"
  }
 },
 "nbformat": 4,
 "nbformat_minor": 2
}
